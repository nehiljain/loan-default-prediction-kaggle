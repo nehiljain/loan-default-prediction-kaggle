{
 "metadata": {
  "name": ""
 },
 "nbformat": 3,
 "nbformat_minor": 0,
 "worksheets": [
  {
   "cells": [
    {
     "cell_type": "code",
     "collapsed": false,
     "input": [
      "import statsmodels.api as sm\n",
      "import pandas as pd\n",
      "import numpy as np\n",
      "\n",
      "from statsmodels.nonparametric import kde, smoothers_lowess\n",
      "from pandas import Series,DataFrame\n",
      "from patsy import dmatrices, build_design_matrices\n",
      "from sklearn import datasets, svm\n",
      "from ggplot import *\n"
     ],
     "language": "python",
     "metadata": {},
     "outputs": []
    }
   ],
   "metadata": {}
  }
 ]
}